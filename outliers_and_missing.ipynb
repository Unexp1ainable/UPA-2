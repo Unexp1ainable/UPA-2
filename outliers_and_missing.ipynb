{
 "cells": [
  {
   "cell_type": "code",
   "execution_count": 28,
   "metadata": {},
   "outputs": [],
   "source": [
    "import pandas as pd\n",
    "import matplotlib.pyplot as plt\n",
    "import numpy as np\n",
    "import scipy\n",
    "from sklearn.ensemble import IsolationForest"
   ]
  },
  {
   "cell_type": "code",
   "execution_count": 29,
   "metadata": {},
   "outputs": [],
   "source": [
    "data = pd.read_csv(\"penguins_lter.csv\")\n",
    "colnames = list(data.select_dtypes([\"number\"]).columns)"
   ]
  },
  {
   "cell_type": "code",
   "execution_count": 30,
   "metadata": {},
   "outputs": [],
   "source": [
    "species = data[\"Species\"]\n",
    "island = data[\"Island\"]\n",
    "cl = data[\"Culmen Length (mm)\"].to_numpy().reshape(1,-1)\n",
    "cd = data[\"Culmen Depth (mm)\"].to_numpy().reshape(-1,1)\n",
    "fl = data[\"Flipper Length (mm)\"].to_numpy().reshape(-1,1)\n",
    "bm = data[\"Body Mass (g)\"].to_numpy().reshape(-1,1)\n",
    "dc = data[\"Delta 13 C (o/oo)\"].to_numpy().reshape(-1,1)\n",
    "dn = data[\"Delta 15 N (o/oo)\"].to_numpy().reshape(-1,1)"
   ]
  },
  {
   "cell_type": "markdown",
   "metadata": {},
   "source": [
    "### Odlehlé hodnoty\n",
    "Úkol: Zjistěta, zda zvolená datová sada obsahuje nějaké odlehlé hodnoty"
   ]
  },
  {
   "cell_type": "code",
   "execution_count": 31,
   "metadata": {},
   "outputs": [
    {
     "data": {
      "text/html": [
       "<div>\n",
       "<style scoped>\n",
       "    .dataframe tbody tr th:only-of-type {\n",
       "        vertical-align: middle;\n",
       "    }\n",
       "\n",
       "    .dataframe tbody tr th {\n",
       "        vertical-align: top;\n",
       "    }\n",
       "\n",
       "    .dataframe thead th {\n",
       "        text-align: right;\n",
       "    }\n",
       "</style>\n",
       "<table border=\"1\" class=\"dataframe\">\n",
       "  <thead>\n",
       "    <tr style=\"text-align: right;\">\n",
       "      <th></th>\n",
       "      <th>Sample Number</th>\n",
       "      <th>Culmen Length (mm)</th>\n",
       "      <th>Culmen Depth (mm)</th>\n",
       "      <th>Flipper Length (mm)</th>\n",
       "      <th>Body Mass (g)</th>\n",
       "      <th>Delta 15 N (o/oo)</th>\n",
       "      <th>Delta 13 C (o/oo)</th>\n",
       "    </tr>\n",
       "  </thead>\n",
       "  <tbody>\n",
       "    <tr>\n",
       "      <th>count</th>\n",
       "      <td>344.000000</td>\n",
       "      <td>342.000000</td>\n",
       "      <td>342.000000</td>\n",
       "      <td>342.000000</td>\n",
       "      <td>342.000000</td>\n",
       "      <td>330.000000</td>\n",
       "      <td>331.000000</td>\n",
       "    </tr>\n",
       "    <tr>\n",
       "      <th>mean</th>\n",
       "      <td>63.151163</td>\n",
       "      <td>43.921930</td>\n",
       "      <td>17.151170</td>\n",
       "      <td>200.915205</td>\n",
       "      <td>4201.754386</td>\n",
       "      <td>8.733382</td>\n",
       "      <td>-25.686292</td>\n",
       "    </tr>\n",
       "    <tr>\n",
       "      <th>std</th>\n",
       "      <td>40.430199</td>\n",
       "      <td>5.459584</td>\n",
       "      <td>1.974793</td>\n",
       "      <td>14.061714</td>\n",
       "      <td>801.954536</td>\n",
       "      <td>0.551770</td>\n",
       "      <td>0.793961</td>\n",
       "    </tr>\n",
       "    <tr>\n",
       "      <th>min</th>\n",
       "      <td>1.000000</td>\n",
       "      <td>32.100000</td>\n",
       "      <td>13.100000</td>\n",
       "      <td>172.000000</td>\n",
       "      <td>2700.000000</td>\n",
       "      <td>7.632200</td>\n",
       "      <td>-27.018540</td>\n",
       "    </tr>\n",
       "    <tr>\n",
       "      <th>25%</th>\n",
       "      <td>29.000000</td>\n",
       "      <td>39.225000</td>\n",
       "      <td>15.600000</td>\n",
       "      <td>190.000000</td>\n",
       "      <td>3550.000000</td>\n",
       "      <td>8.299890</td>\n",
       "      <td>-26.320305</td>\n",
       "    </tr>\n",
       "    <tr>\n",
       "      <th>50%</th>\n",
       "      <td>58.000000</td>\n",
       "      <td>44.450000</td>\n",
       "      <td>17.300000</td>\n",
       "      <td>197.000000</td>\n",
       "      <td>4050.000000</td>\n",
       "      <td>8.652405</td>\n",
       "      <td>-25.833520</td>\n",
       "    </tr>\n",
       "    <tr>\n",
       "      <th>75%</th>\n",
       "      <td>95.250000</td>\n",
       "      <td>48.500000</td>\n",
       "      <td>18.700000</td>\n",
       "      <td>213.000000</td>\n",
       "      <td>4750.000000</td>\n",
       "      <td>9.172123</td>\n",
       "      <td>-25.062050</td>\n",
       "    </tr>\n",
       "    <tr>\n",
       "      <th>max</th>\n",
       "      <td>152.000000</td>\n",
       "      <td>59.600000</td>\n",
       "      <td>21.500000</td>\n",
       "      <td>231.000000</td>\n",
       "      <td>6300.000000</td>\n",
       "      <td>10.025440</td>\n",
       "      <td>-23.787670</td>\n",
       "    </tr>\n",
       "  </tbody>\n",
       "</table>\n",
       "</div>"
      ],
      "text/plain": [
       "       Sample Number  Culmen Length (mm)  Culmen Depth (mm)  \\\n",
       "count     344.000000          342.000000         342.000000   \n",
       "mean       63.151163           43.921930          17.151170   \n",
       "std        40.430199            5.459584           1.974793   \n",
       "min         1.000000           32.100000          13.100000   \n",
       "25%        29.000000           39.225000          15.600000   \n",
       "50%        58.000000           44.450000          17.300000   \n",
       "75%        95.250000           48.500000          18.700000   \n",
       "max       152.000000           59.600000          21.500000   \n",
       "\n",
       "       Flipper Length (mm)  Body Mass (g)  Delta 15 N (o/oo)  \\\n",
       "count           342.000000     342.000000         330.000000   \n",
       "mean            200.915205    4201.754386           8.733382   \n",
       "std              14.061714     801.954536           0.551770   \n",
       "min             172.000000    2700.000000           7.632200   \n",
       "25%             190.000000    3550.000000           8.299890   \n",
       "50%             197.000000    4050.000000           8.652405   \n",
       "75%             213.000000    4750.000000           9.172123   \n",
       "max             231.000000    6300.000000          10.025440   \n",
       "\n",
       "       Delta 13 C (o/oo)  \n",
       "count         331.000000  \n",
       "mean          -25.686292  \n",
       "std             0.793961  \n",
       "min           -27.018540  \n",
       "25%           -26.320305  \n",
       "50%           -25.833520  \n",
       "75%           -25.062050  \n",
       "max           -23.787670  "
      ]
     },
     "execution_count": 31,
     "metadata": {},
     "output_type": "execute_result"
    }
   ],
   "source": [
    "data.describe()"
   ]
  },
  {
   "cell_type": "code",
   "execution_count": 32,
   "metadata": {},
   "outputs": [
    {
     "data": {
      "text/html": [
       "<div>\n",
       "<style scoped>\n",
       "    .dataframe tbody tr th:only-of-type {\n",
       "        vertical-align: middle;\n",
       "    }\n",
       "\n",
       "    .dataframe tbody tr th {\n",
       "        vertical-align: top;\n",
       "    }\n",
       "\n",
       "    .dataframe thead th {\n",
       "        text-align: right;\n",
       "    }\n",
       "</style>\n",
       "<table border=\"1\" class=\"dataframe\">\n",
       "  <thead>\n",
       "    <tr style=\"text-align: right;\">\n",
       "      <th></th>\n",
       "      <th>studyName</th>\n",
       "      <th>Sample Number</th>\n",
       "      <th>Species</th>\n",
       "      <th>Region</th>\n",
       "      <th>Island</th>\n",
       "      <th>Stage</th>\n",
       "      <th>Individual ID</th>\n",
       "      <th>Clutch Completion</th>\n",
       "      <th>Date Egg</th>\n",
       "      <th>Culmen Length (mm)</th>\n",
       "      <th>Culmen Depth (mm)</th>\n",
       "      <th>Flipper Length (mm)</th>\n",
       "      <th>Body Mass (g)</th>\n",
       "      <th>Sex</th>\n",
       "      <th>Delta 15 N (o/oo)</th>\n",
       "      <th>Delta 13 C (o/oo)</th>\n",
       "      <th>Comments</th>\n",
       "    </tr>\n",
       "  </thead>\n",
       "  <tbody>\n",
       "    <tr>\n",
       "      <th>0</th>\n",
       "      <td>PAL0708</td>\n",
       "      <td>1</td>\n",
       "      <td>Adelie Penguin (Pygoscelis adeliae)</td>\n",
       "      <td>Anvers</td>\n",
       "      <td>Torgersen</td>\n",
       "      <td>Adult, 1 Egg Stage</td>\n",
       "      <td>N1A1</td>\n",
       "      <td>Yes</td>\n",
       "      <td>11/11/07</td>\n",
       "      <td>39.1</td>\n",
       "      <td>18.7</td>\n",
       "      <td>181.0</td>\n",
       "      <td>3750.0</td>\n",
       "      <td>MALE</td>\n",
       "      <td>NaN</td>\n",
       "      <td>NaN</td>\n",
       "      <td>Not enough blood for isotopes.</td>\n",
       "    </tr>\n",
       "    <tr>\n",
       "      <th>1</th>\n",
       "      <td>PAL0708</td>\n",
       "      <td>2</td>\n",
       "      <td>Adelie Penguin (Pygoscelis adeliae)</td>\n",
       "      <td>Anvers</td>\n",
       "      <td>Torgersen</td>\n",
       "      <td>Adult, 1 Egg Stage</td>\n",
       "      <td>N1A2</td>\n",
       "      <td>Yes</td>\n",
       "      <td>11/11/07</td>\n",
       "      <td>39.5</td>\n",
       "      <td>17.4</td>\n",
       "      <td>186.0</td>\n",
       "      <td>3800.0</td>\n",
       "      <td>FEMALE</td>\n",
       "      <td>8.94956</td>\n",
       "      <td>-24.69454</td>\n",
       "      <td>NaN</td>\n",
       "    </tr>\n",
       "    <tr>\n",
       "      <th>2</th>\n",
       "      <td>PAL0708</td>\n",
       "      <td>3</td>\n",
       "      <td>Adelie Penguin (Pygoscelis adeliae)</td>\n",
       "      <td>Anvers</td>\n",
       "      <td>Torgersen</td>\n",
       "      <td>Adult, 1 Egg Stage</td>\n",
       "      <td>N2A1</td>\n",
       "      <td>Yes</td>\n",
       "      <td>11/16/07</td>\n",
       "      <td>40.3</td>\n",
       "      <td>18.0</td>\n",
       "      <td>195.0</td>\n",
       "      <td>3250.0</td>\n",
       "      <td>FEMALE</td>\n",
       "      <td>8.36821</td>\n",
       "      <td>-25.33302</td>\n",
       "      <td>NaN</td>\n",
       "    </tr>\n",
       "    <tr>\n",
       "      <th>3</th>\n",
       "      <td>PAL0708</td>\n",
       "      <td>4</td>\n",
       "      <td>Adelie Penguin (Pygoscelis adeliae)</td>\n",
       "      <td>Anvers</td>\n",
       "      <td>Torgersen</td>\n",
       "      <td>Adult, 1 Egg Stage</td>\n",
       "      <td>N2A2</td>\n",
       "      <td>Yes</td>\n",
       "      <td>11/16/07</td>\n",
       "      <td>NaN</td>\n",
       "      <td>NaN</td>\n",
       "      <td>NaN</td>\n",
       "      <td>NaN</td>\n",
       "      <td>NaN</td>\n",
       "      <td>NaN</td>\n",
       "      <td>NaN</td>\n",
       "      <td>Adult not sampled.</td>\n",
       "    </tr>\n",
       "    <tr>\n",
       "      <th>4</th>\n",
       "      <td>PAL0708</td>\n",
       "      <td>5</td>\n",
       "      <td>Adelie Penguin (Pygoscelis adeliae)</td>\n",
       "      <td>Anvers</td>\n",
       "      <td>Torgersen</td>\n",
       "      <td>Adult, 1 Egg Stage</td>\n",
       "      <td>N3A1</td>\n",
       "      <td>Yes</td>\n",
       "      <td>11/16/07</td>\n",
       "      <td>36.7</td>\n",
       "      <td>19.3</td>\n",
       "      <td>193.0</td>\n",
       "      <td>3450.0</td>\n",
       "      <td>FEMALE</td>\n",
       "      <td>8.76651</td>\n",
       "      <td>-25.32426</td>\n",
       "      <td>NaN</td>\n",
       "    </tr>\n",
       "  </tbody>\n",
       "</table>\n",
       "</div>"
      ],
      "text/plain": [
       "  studyName  Sample Number                              Species  Region  \\\n",
       "0   PAL0708              1  Adelie Penguin (Pygoscelis adeliae)  Anvers   \n",
       "1   PAL0708              2  Adelie Penguin (Pygoscelis adeliae)  Anvers   \n",
       "2   PAL0708              3  Adelie Penguin (Pygoscelis adeliae)  Anvers   \n",
       "3   PAL0708              4  Adelie Penguin (Pygoscelis adeliae)  Anvers   \n",
       "4   PAL0708              5  Adelie Penguin (Pygoscelis adeliae)  Anvers   \n",
       "\n",
       "      Island               Stage Individual ID Clutch Completion  Date Egg  \\\n",
       "0  Torgersen  Adult, 1 Egg Stage          N1A1               Yes  11/11/07   \n",
       "1  Torgersen  Adult, 1 Egg Stage          N1A2               Yes  11/11/07   \n",
       "2  Torgersen  Adult, 1 Egg Stage          N2A1               Yes  11/16/07   \n",
       "3  Torgersen  Adult, 1 Egg Stage          N2A2               Yes  11/16/07   \n",
       "4  Torgersen  Adult, 1 Egg Stage          N3A1               Yes  11/16/07   \n",
       "\n",
       "   Culmen Length (mm)  Culmen Depth (mm)  Flipper Length (mm)  Body Mass (g)  \\\n",
       "0                39.1               18.7                181.0         3750.0   \n",
       "1                39.5               17.4                186.0         3800.0   \n",
       "2                40.3               18.0                195.0         3250.0   \n",
       "3                 NaN                NaN                  NaN            NaN   \n",
       "4                36.7               19.3                193.0         3450.0   \n",
       "\n",
       "      Sex  Delta 15 N (o/oo)  Delta 13 C (o/oo)  \\\n",
       "0    MALE                NaN                NaN   \n",
       "1  FEMALE            8.94956          -24.69454   \n",
       "2  FEMALE            8.36821          -25.33302   \n",
       "3     NaN                NaN                NaN   \n",
       "4  FEMALE            8.76651          -25.32426   \n",
       "\n",
       "                         Comments  \n",
       "0  Not enough blood for isotopes.  \n",
       "1                             NaN  \n",
       "2                             NaN  \n",
       "3              Adult not sampled.  \n",
       "4                             NaN  "
      ]
     },
     "execution_count": 32,
     "metadata": {},
     "output_type": "execute_result"
    }
   ],
   "source": [
    "data.head()"
   ]
  },
  {
   "cell_type": "code",
   "execution_count": 43,
   "metadata": {},
   "outputs": [],
   "source": [
    "def remove_nan(cl):\n",
    "    return cl[~np.isnan(cl)].reshape(-1,1)"
   ]
  },
  {
   "cell_type": "code",
   "execution_count": 54,
   "metadata": {},
   "outputs": [
    {
     "name": "stdout",
     "output_type": "stream",
     "text": [
      "The following are the outliers in the boxplot:[]\n",
      "The following are the outliers in the boxplot:[]\n",
      "The following are the outliers in the boxplot:[]\n",
      "The following are the outliers in the boxplot:[]\n",
      "The following are the outliers in the boxplot:[]\n",
      "The following are the outliers in the boxplot:[]\n"
     ]
    }
   ],
   "source": [
    "def find_outliers(cl):\n",
    "    # finding the 1st quartile\n",
    "    q1 = np.quantile(cl, 0.25)\n",
    "    \n",
    "    # finding the 3rd quartile\n",
    "    q3 = np.quantile(cl, 0.75)\n",
    "    med = np.median(cl)\n",
    "    \n",
    "    # finding the iqr region\n",
    "    iqr = q3-q1\n",
    "    \n",
    "    # finding upper and lower whiskers\n",
    "    upper_bound = q3+(1.5*iqr)\n",
    "    lower_bound = q1-(1.5*iqr)\n",
    "    # print(iqr, upper_bound, lower_bound)\n",
    "\n",
    "    outliers = cl[(cl <= lower_bound) | (cl >= upper_bound)]\n",
    "    print('The following are the outliers in the boxplot:{}'.format(outliers))\n",
    "\n",
    "cl = remove_nan(cl)\n",
    "cd = remove_nan(cd)\n",
    "fl = remove_nan(fl)\n",
    "bm = remove_nan(bm)\n",
    "dc = remove_nan(dc)\n",
    "dn = remove_nan(dn)\n",
    "\n",
    "find_outliers(cl)\n",
    "find_outliers(cd)\n",
    "find_outliers(fl)\n",
    "find_outliers(bm)\n",
    "find_outliers(dc)\n",
    "find_outliers(dn)"
   ]
  },
  {
   "cell_type": "markdown",
   "metadata": {},
   "source": [
    "Datová sada neobsahuje žádné odlehlé hodnoty, pokud zkoumáme všechny druhy tučňáků zároveň. Dále budeme zkoumat odlehlé hodnoty pro každý druh tučňáka zvlášť."
   ]
  },
  {
   "cell_type": "code",
   "execution_count": 55,
   "metadata": {},
   "outputs": [],
   "source": [
    "def outliers_for_species(species, data):\n",
    "    data = data[data[\"Species\"] == species]\n",
    "\n",
    "    species = data[\"Species\"]\n",
    "    island = data[\"Island\"]\n",
    "    cl = data[\"Culmen Length (mm)\"].to_numpy().reshape(1,-1)\n",
    "    cd = data[\"Culmen Depth (mm)\"].to_numpy().reshape(-1,1)\n",
    "    fl = data[\"Flipper Length (mm)\"].to_numpy().reshape(-1,1)\n",
    "    bm = data[\"Body Mass (g)\"].to_numpy().reshape(-1,1)\n",
    "    dc = data[\"Delta 13 C (o/oo)\"].to_numpy().reshape(-1,1)\n",
    "    dn = data[\"Delta 15 N (o/oo)\"].to_numpy().reshape(-1,1)\n",
    "\n",
    "    find_outliers(remove_nan(cl))\n",
    "    find_outliers(remove_nan(cd))\n",
    "    find_outliers(remove_nan(fl))\n",
    "    find_outliers(remove_nan(bm))\n",
    "    find_outliers(remove_nan(dc))\n",
    "    find_outliers(remove_nan(dn))"
   ]
  },
  {
   "cell_type": "code",
   "execution_count": 56,
   "metadata": {},
   "outputs": [
    {
     "name": "stdout",
     "output_type": "stream",
     "text": [
      "The following are the outliers in the boxplot:[]\n",
      "The following are the outliers in the boxplot:[21.5]\n",
      "The following are the outliers in the boxplot:[172. 210.]\n",
      "The following are the outliers in the boxplot:[]\n",
      "The following are the outliers in the boxplot:[]\n",
      "The following are the outliers in the boxplot:[]\n"
     ]
    }
   ],
   "source": [
    "outliers_for_species(\"Adelie Penguin (Pygoscelis adeliae)\", data)"
   ]
  },
  {
   "cell_type": "code",
   "execution_count": 57,
   "metadata": {},
   "outputs": [
    {
     "name": "stdout",
     "output_type": "stream",
     "text": [
      "The following are the outliers in the boxplot:[]\n",
      "The following are the outliers in the boxplot:[]\n",
      "The following are the outliers in the boxplot:[]\n",
      "The following are the outliers in the boxplot:[4800. 2700.]\n",
      "The following are the outliers in the boxplot:[-23.89017 -25.1455  -23.78767]\n",
      "The following are the outliers in the boxplot:[]\n"
     ]
    }
   ],
   "source": [
    "outliers_for_species(\"Chinstrap penguin (Pygoscelis antarctica)\", data)"
   ]
  },
  {
   "cell_type": "code",
   "execution_count": 58,
   "metadata": {},
   "outputs": [
    {
     "name": "stdout",
     "output_type": "stream",
     "text": [
      "The following are the outliers in the boxplot:[59.6]\n",
      "The following are the outliers in the boxplot:[]\n",
      "The following are the outliers in the boxplot:[]\n",
      "The following are the outliers in the boxplot:[]\n",
      "The following are the outliers in the boxplot:[]\n",
      "The following are the outliers in the boxplot:[]\n"
     ]
    }
   ],
   "source": [
    "outliers_for_species(\"Gentoo penguin (Pygoscelis papua)\", data)"
   ]
  },
  {
   "cell_type": "markdown",
   "metadata": {},
   "source": [
    "<b>Adelie Penguin:</b>\n",
    "* 1 odlehlá hodnota pro culmen depth (21.5)\n",
    "* 2 odlehlé hodnoty pro flipper length (172 a 210)\n",
    "\n",
    "<b>Chinstrap Penguin:</b>\n",
    "* 2 odlehlé hodnoty pro body mass (4800 a 2700)\n",
    "* 3 odlehlé hodnoty pro delta 13\n",
    "\n",
    "<b>Gentoo Penguin:</b>\n",
    "* 1 odlehlé hodnotao pro culmen length (59.6)"
   ]
  },
  {
   "cell_type": "markdown",
   "metadata": {},
   "source": [
    "### Chybějící hodnoty\n",
    "Úkol: Proveďte podrobnou analýzu chybějících hodnot (celkový počet chybějících hodnot, počet objektů s více chybějícími hodnotami, atd.)"
   ]
  },
  {
   "cell_type": "code",
   "execution_count": 64,
   "metadata": {},
   "outputs": [],
   "source": [
    "cl = data[\"Culmen Length (mm)\"].to_numpy().reshape(-1,1)\n",
    "cd = data[\"Culmen Depth (mm)\"].to_numpy().reshape(-1,1)\n",
    "fl = data[\"Flipper Length (mm)\"].to_numpy().reshape(-1,1)\n",
    "bm = data[\"Body Mass (g)\"].to_numpy().reshape(-1,1)\n",
    "dc = data[\"Delta 13 C (o/oo)\"].to_numpy().reshape(-1,1)\n",
    "dn = data[\"Delta 15 N (o/oo)\"].to_numpy().reshape(-1,1)"
   ]
  },
  {
   "cell_type": "code",
   "execution_count": 76,
   "metadata": {},
   "outputs": [],
   "source": [
    "def get_number_of_missing_values(array, name):\n",
    "    total = array.shape[0]\n",
    "    missing = array[np.isnan(array)].reshape(-1,1).shape[0]\n",
    "    print(name, \": \", missing, \"/\", total)"
   ]
  },
  {
   "cell_type": "code",
   "execution_count": 77,
   "metadata": {},
   "outputs": [
    {
     "name": "stdout",
     "output_type": "stream",
     "text": [
      "Culmen length :  2 / 344\n",
      "Culmen depth :  2 / 344\n",
      "Flipper length :  2 / 344\n",
      "Body mass :  2 / 344\n",
      "Delta 13 :  13 / 344\n",
      "Delta 15 :  14 / 344\n"
     ]
    }
   ],
   "source": [
    "get_number_of_missing_values(cl, \"Culmen length\")\n",
    "get_number_of_missing_values(cd, \"Culmen depth\")\n",
    "get_number_of_missing_values(fl, \"Flipper length\")\n",
    "get_number_of_missing_values(bm, \"Body mass\")\n",
    "get_number_of_missing_values(dc, \"Delta 13\")\n",
    "get_number_of_missing_values(dn, \"Delta 15\")"
   ]
  },
  {
   "cell_type": "code",
   "execution_count": 87,
   "metadata": {},
   "outputs": [],
   "source": [
    "name = data[\"studyName\"]\n",
    "number = data[\"Sample Number\"]\n",
    "species = data[\"Species\"]\n",
    "island = data[\"Island\"]\n",
    "stage = data[\"Stage\"]\n",
    "id = data[\"Individual ID\"]\n",
    "clutch = data[\"Clutch Completion\"]\n",
    "date = data[\"Date Egg\"]\n",
    "sex = data[\"Sex\"]\n",
    "comments = data[\"Comments\"]"
   ]
  },
  {
   "cell_type": "code",
   "execution_count": 91,
   "metadata": {},
   "outputs": [],
   "source": [
    "def get_number_of_missing_strings(series, name):\n",
    "    total = len(series)\n",
    "    missing = series.isnull().sum()\n",
    "    print(name, \": \", missing, \"/\", total)"
   ]
  },
  {
   "cell_type": "code",
   "execution_count": 93,
   "metadata": {},
   "outputs": [
    {
     "name": "stdout",
     "output_type": "stream",
     "text": [
      "Name :  0 / 344\n",
      "Sample number :  0 / 344\n",
      "Species :  0 / 344\n",
      "Island :  0 / 344\n",
      "Stage :  0 / 344\n",
      "Idividual ID :  0 / 344\n",
      "Clutch completion :  0 / 344\n",
      "Date egg :  0 / 344\n",
      "Sex :  10 / 344\n",
      "Comments :  318 / 344\n"
     ]
    }
   ],
   "source": [
    "get_number_of_missing_strings(name, \"Name\")\n",
    "get_number_of_missing_strings(number, \"Sample number\")\n",
    "get_number_of_missing_strings(species, \"Species\")\n",
    "get_number_of_missing_strings(island, \"Island\")\n",
    "get_number_of_missing_strings(stage, \"Stage\")\n",
    "get_number_of_missing_strings(id, \"Idividual ID\")\n",
    "get_number_of_missing_strings(clutch, \"Clutch completion\")\n",
    "get_number_of_missing_strings(date, \"Date egg\")\n",
    "get_number_of_missing_strings(sex, \"Sex\")\n",
    "get_number_of_missing_strings(comments, \"Comments\")"
   ]
  },
  {
   "cell_type": "markdown",
   "metadata": {},
   "source": [
    "Celkově je 35 numerických odlehlých hodnot.\n",
    "\n",
    "Dále chybí 10 hodnot u pohlaví tučňáka a 318 komentářů (což není důležité)"
   ]
  },
  {
   "cell_type": "code",
   "execution_count": 97,
   "metadata": {},
   "outputs": [
    {
     "name": "stdout",
     "output_type": "stream",
     "text": [
      "(13, 17)\n",
      "(13, 17)\n"
     ]
    }
   ],
   "source": [
    "print(data.shape)\n",
    "not_empty = data.dropna()\n",
    "print(not_empty.shape())"
   ]
  }
 ],
 "metadata": {
  "kernelspec": {
   "display_name": "Python 3.8.10 64-bit",
   "language": "python",
   "name": "python3"
  },
  "language_info": {
   "codemirror_mode": {
    "name": "ipython",
    "version": 3
   },
   "file_extension": ".py",
   "mimetype": "text/x-python",
   "name": "python",
   "nbconvert_exporter": "python",
   "pygments_lexer": "ipython3",
   "version": "3.8.10"
  },
  "orig_nbformat": 4,
  "vscode": {
   "interpreter": {
    "hash": "916dbcbb3f70747c44a77c7bcd40155683ae19c65e1c03b4aa3499c5328201f1"
   }
  }
 },
 "nbformat": 4,
 "nbformat_minor": 2
}
