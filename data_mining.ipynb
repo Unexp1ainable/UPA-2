{
 "cells": [
  {
   "cell_type": "markdown",
   "metadata": {},
   "source": [
    "### Příprava datových sad pro dolovací úlohy"
   ]
  },
  {
   "cell_type": "code",
   "execution_count": 1,
   "metadata": {},
   "outputs": [],
   "source": [
    "import pandas as pd\n",
    "import matplotlib.pyplot as plt\n",
    "import numpy as np"
   ]
  },
  {
   "cell_type": "markdown",
   "metadata": {},
   "source": [
    "Dolovací úloha: klasifikace druhů tučňáků na základě ostatních atributů"
   ]
  },
  {
   "cell_type": "code",
   "execution_count": 2,
   "metadata": {},
   "outputs": [],
   "source": [
    "data = pd.read_csv(\"penguins_lter.csv\")"
   ]
  },
  {
   "cell_type": "markdown",
   "metadata": {},
   "source": [
    "### Odstranění irelevantních atributů"
   ]
  },
  {
   "cell_type": "code",
   "execution_count": 3,
   "metadata": {},
   "outputs": [
    {
     "data": {
      "text/html": [
       "<div>\n",
       "<style scoped>\n",
       "    .dataframe tbody tr th:only-of-type {\n",
       "        vertical-align: middle;\n",
       "    }\n",
       "\n",
       "    .dataframe tbody tr th {\n",
       "        vertical-align: top;\n",
       "    }\n",
       "\n",
       "    .dataframe thead th {\n",
       "        text-align: right;\n",
       "    }\n",
       "</style>\n",
       "<table border=\"1\" class=\"dataframe\">\n",
       "  <thead>\n",
       "    <tr style=\"text-align: right;\">\n",
       "      <th></th>\n",
       "      <th>Island</th>\n",
       "      <th>Culmen Length (mm)</th>\n",
       "      <th>Culmen Depth (mm)</th>\n",
       "      <th>Flipper Length (mm)</th>\n",
       "      <th>Body Mass (g)</th>\n",
       "    </tr>\n",
       "  </thead>\n",
       "  <tbody>\n",
       "    <tr>\n",
       "      <th>0</th>\n",
       "      <td>Torgersen</td>\n",
       "      <td>39.1</td>\n",
       "      <td>18.7</td>\n",
       "      <td>181.0</td>\n",
       "      <td>3750.0</td>\n",
       "    </tr>\n",
       "    <tr>\n",
       "      <th>1</th>\n",
       "      <td>Torgersen</td>\n",
       "      <td>39.5</td>\n",
       "      <td>17.4</td>\n",
       "      <td>186.0</td>\n",
       "      <td>3800.0</td>\n",
       "    </tr>\n",
       "    <tr>\n",
       "      <th>2</th>\n",
       "      <td>Torgersen</td>\n",
       "      <td>40.3</td>\n",
       "      <td>18.0</td>\n",
       "      <td>195.0</td>\n",
       "      <td>3250.0</td>\n",
       "    </tr>\n",
       "    <tr>\n",
       "      <th>3</th>\n",
       "      <td>Torgersen</td>\n",
       "      <td>NaN</td>\n",
       "      <td>NaN</td>\n",
       "      <td>NaN</td>\n",
       "      <td>NaN</td>\n",
       "    </tr>\n",
       "    <tr>\n",
       "      <th>4</th>\n",
       "      <td>Torgersen</td>\n",
       "      <td>36.7</td>\n",
       "      <td>19.3</td>\n",
       "      <td>193.0</td>\n",
       "      <td>3450.0</td>\n",
       "    </tr>\n",
       "  </tbody>\n",
       "</table>\n",
       "</div>"
      ],
      "text/plain": [
       "      Island  Culmen Length (mm)  Culmen Depth (mm)  Flipper Length (mm)  \\\n",
       "0  Torgersen                39.1               18.7                181.0   \n",
       "1  Torgersen                39.5               17.4                186.0   \n",
       "2  Torgersen                40.3               18.0                195.0   \n",
       "3  Torgersen                 NaN                NaN                  NaN   \n",
       "4  Torgersen                36.7               19.3                193.0   \n",
       "\n",
       "   Body Mass (g)  \n",
       "0         3750.0  \n",
       "1         3800.0  \n",
       "2         3250.0  \n",
       "3            NaN  \n",
       "4         3450.0  "
      ]
     },
     "execution_count": 3,
     "metadata": {},
     "output_type": "execute_result"
    }
   ],
   "source": [
    "data = data[[\"Island\", \"Culmen Length (mm)\", \"Culmen Depth (mm)\", \"Flipper Length (mm)\", \"Body Mass (g)\"]]\n",
    "data.head()"
   ]
  },
  {
   "cell_type": "markdown",
   "metadata": {},
   "source": [
    "### Chybějící hodnoty\n",
    "Využijte alespoň dvě různé metody pro odstranění chybějících hodnot:\n",
    "\n",
    "1) Ignorování záznamu\n",
    "\n",
    "2) Doplnění chybějících hodnot - např. průměr, medián, modus, ... (pro celou sadu nebo pro danou třídu)\n",
    "\n",
    "V první datové sadě budeme záznamy ignorovat, ve druhé doplníme jejich hodnotu průměrem."
   ]
  },
  {
   "cell_type": "code",
   "execution_count": 4,
   "metadata": {},
   "outputs": [],
   "source": [
    "# vytvoreni druhe datove sady\n",
    "data2 = data"
   ]
  },
  {
   "cell_type": "code",
   "execution_count": 5,
   "metadata": {},
   "outputs": [
    {
     "name": "stderr",
     "output_type": "stream",
     "text": [
      "/tmp/ipykernel_245065/218958157.py:2: FutureWarning: In a future version of pandas all arguments of DataFrame.any and Series.any will be keyword-only.\n",
      "  empty = data[data.isnull().any(1)]\n"
     ]
    },
    {
     "data": {
      "text/html": [
       "<div>\n",
       "<style scoped>\n",
       "    .dataframe tbody tr th:only-of-type {\n",
       "        vertical-align: middle;\n",
       "    }\n",
       "\n",
       "    .dataframe tbody tr th {\n",
       "        vertical-align: top;\n",
       "    }\n",
       "\n",
       "    .dataframe thead th {\n",
       "        text-align: right;\n",
       "    }\n",
       "</style>\n",
       "<table border=\"1\" class=\"dataframe\">\n",
       "  <thead>\n",
       "    <tr style=\"text-align: right;\">\n",
       "      <th></th>\n",
       "      <th>Island</th>\n",
       "      <th>Culmen Length (mm)</th>\n",
       "      <th>Culmen Depth (mm)</th>\n",
       "      <th>Flipper Length (mm)</th>\n",
       "      <th>Body Mass (g)</th>\n",
       "    </tr>\n",
       "  </thead>\n",
       "  <tbody>\n",
       "    <tr>\n",
       "      <th>3</th>\n",
       "      <td>Torgersen</td>\n",
       "      <td>NaN</td>\n",
       "      <td>NaN</td>\n",
       "      <td>NaN</td>\n",
       "      <td>NaN</td>\n",
       "    </tr>\n",
       "    <tr>\n",
       "      <th>339</th>\n",
       "      <td>Biscoe</td>\n",
       "      <td>NaN</td>\n",
       "      <td>NaN</td>\n",
       "      <td>NaN</td>\n",
       "      <td>NaN</td>\n",
       "    </tr>\n",
       "  </tbody>\n",
       "</table>\n",
       "</div>"
      ],
      "text/plain": [
       "        Island  Culmen Length (mm)  Culmen Depth (mm)  Flipper Length (mm)  \\\n",
       "3    Torgersen                 NaN                NaN                  NaN   \n",
       "339     Biscoe                 NaN                NaN                  NaN   \n",
       "\n",
       "     Body Mass (g)  \n",
       "3              NaN  \n",
       "339            NaN  "
      ]
     },
     "execution_count": 5,
     "metadata": {},
     "output_type": "execute_result"
    }
   ],
   "source": [
    "# chybejici hodnoty\n",
    "empty = data[data.isnull().any(1)]\n",
    "empty"
   ]
  },
  {
   "cell_type": "code",
   "execution_count": 6,
   "metadata": {},
   "outputs": [
    {
     "name": "stderr",
     "output_type": "stream",
     "text": [
      "/tmp/ipykernel_245065/969702303.py:2: FutureWarning: In a future version of pandas all arguments of DataFrame.any and Series.any will be keyword-only.\n",
      "  data = data[~data.isnull().any(1)]\n"
     ]
    }
   ],
   "source": [
    "# ignorovani zaznamu v prvni sade\n",
    "data = data[~data.isnull().any(1)]"
   ]
  },
  {
   "cell_type": "code",
   "execution_count": 7,
   "metadata": {},
   "outputs": [],
   "source": [
    "# nahrazeni chybejici hodnoty prumerem ve druhe sade\n",
    "cl = data2[\"Culmen Length (mm)\"].to_numpy().reshape(-1,1)\n",
    "cd = data2[\"Culmen Depth (mm)\"].to_numpy().reshape(-1,1)\n",
    "fl = data2[\"Flipper Length (mm)\"].to_numpy().reshape(-1,1)\n",
    "bm = data2[\"Body Mass (g)\"].to_numpy().reshape(-1,1)\n",
    "\n",
    "data2[\"Culmen Length (mm)\"] = data2[\"Culmen Length (mm)\"].fillna(np.nanmean(cl))\n",
    "data2[\"Culmen Depth (mm)\"] = data2[\"Culmen Depth (mm)\"].fillna(np.nanmean(cd))\n",
    "data2[\"Flipper Length (mm)\"] = data2[\"Flipper Length (mm)\"].fillna(np.nanmean(fl))\n",
    "data2[\"Body Mass (g)\"] = data2[\"Body Mass (g)\"].fillna(np.nanmean(bm))"
   ]
  },
  {
   "cell_type": "markdown",
   "metadata": {},
   "source": [
    "### Odlehlé hodnoty"
   ]
  },
  {
   "cell_type": "code",
   "execution_count": 8,
   "metadata": {},
   "outputs": [],
   "source": [
    "def find_outliers(cl):\n",
    "    # finding the 1st quartile\n",
    "    q1 = np.quantile(cl, 0.25)\n",
    "    \n",
    "    # finding the 3rd quartile\n",
    "    q3 = np.quantile(cl, 0.75)\n",
    "    med = np.median(cl)\n",
    "    \n",
    "    # finding the iqr region\n",
    "    iqr = q3-q1\n",
    "    \n",
    "    # finding upper and lower whiskers\n",
    "    upper_bound = q3+(1.5*iqr)\n",
    "    lower_bound = q1-(1.5*iqr)\n",
    "\n",
    "    outliers = cl[(cl <= lower_bound) | (cl >= upper_bound)]\n",
    "    print('The following are the outliers in the boxplot:{}'.format(outliers))"
   ]
  },
  {
   "cell_type": "code",
   "execution_count": 9,
   "metadata": {},
   "outputs": [
    {
     "name": "stdout",
     "output_type": "stream",
     "text": [
      "The following are the outliers in the boxplot:[]\n",
      "The following are the outliers in the boxplot:[]\n",
      "The following are the outliers in the boxplot:[]\n",
      "The following are the outliers in the boxplot:[]\n"
     ]
    }
   ],
   "source": [
    "# second dataset\n",
    "find_outliers(cl)\n",
    "find_outliers(cd)\n",
    "find_outliers(fl)\n",
    "find_outliers(bm)"
   ]
  },
  {
   "cell_type": "markdown",
   "metadata": {},
   "source": [
    "### Diskretizacia numerickych atributov"
   ]
  },
  {
   "cell_type": "markdown",
   "metadata": {},
   "source": [
    "Pro jednu variantu datové sady proveďte diskretizaci numerických atributů tak, aby výsledná datová sada byla vhodná pro algoritmy, které vyžadují na vstupu kategorické atributy\\\n"
   ]
  },
  {
   "cell_type": "markdown",
   "metadata": {},
   "source": [
    "Body Mass - equi-width"
   ]
  },
  {
   "cell_type": "code",
   "execution_count": 10,
   "metadata": {},
   "outputs": [
    {
     "name": "stderr",
     "output_type": "stream",
     "text": [
      "/tmp/ipykernel_245065/2755693783.py:1: SettingWithCopyWarning: \n",
      "A value is trying to be set on a copy of a slice from a DataFrame.\n",
      "Try using .loc[row_indexer,col_indexer] = value instead\n",
      "\n",
      "See the caveats in the documentation: https://pandas.pydata.org/pandas-docs/stable/user_guide/indexing.html#returning-a-view-versus-a-copy\n",
      "  data[\"Body Mass cat\"] =  pd.cut(data[\"Body Mass (g)\"], bins=5, labels = [\"mass_1\", \"mass_2\", \"mass_3\", \"mass_4\", \"mass_5\"])\n"
     ]
    },
    {
     "data": {
      "text/plain": [
       "Text(0.5, 1.0, 'Body Mass cat')"
      ]
     },
     "execution_count": 10,
     "metadata": {},
     "output_type": "execute_result"
    },
    {
     "data": {
      "image/png": "[encoded data removed]",
      "text/plain": [
       "<Figure size 1000x400 with 2 Axes>"
      ]
     },
     "metadata": {},
     "output_type": "display_data"
    }
   ],
   "source": [
    "data[\"Body Mass cat\"] =  pd.cut(data[\"Body Mass (g)\"], bins=5, labels = [\"mass_1\", \"mass_2\", \"mass_3\", \"mass_4\", \"mass_5\"])\n",
    "fig, ax = plt.subplots(1, 2, figsize=(10,4))\n",
    "ax[0].hist(data[\"Body Mass (g)\"], 5, width=300)\n",
    "ax[0].set_title(\"Body Mass (g)\")\n",
    "ax[1].hist(data[\"Body Mass cat\"])\n",
    "ax[1].set_title(\"Body Mass cat\")"
   ]
  },
  {
   "cell_type": "markdown",
   "metadata": {},
   "source": [
    "Flipper Length - equi depth"
   ]
  },
  {
   "cell_type": "code",
   "execution_count": 11,
   "metadata": {},
   "outputs": [
    {
     "name": "stderr",
     "output_type": "stream",
     "text": [
      "/tmp/ipykernel_245065/2949899495.py:2: SettingWithCopyWarning: \n",
      "A value is trying to be set on a copy of a slice from a DataFrame.\n",
      "Try using .loc[row_indexer,col_indexer] = value instead\n",
      "\n",
      "See the caveats in the documentation: https://pandas.pydata.org/pandas-docs/stable/user_guide/indexing.html#returning-a-view-versus-a-copy\n",
      "  data[\"Flipper Length cat\"] =  pd.qcut(data[\"Flipper Length (mm)\"], q=5, labels = [\"length_1\", \"length_2\", \"length_3\", \"length_4\", \"length_5\"])\n"
     ]
    },
    {
     "data": {
      "text/plain": [
       "Text(0.5, 1.0, 'Flipper Length cat')"
      ]
     },
     "execution_count": 11,
     "metadata": {},
     "output_type": "execute_result"
    },
    {
     "data": {
      "image/png": "[encoded data removed]",
      "text/plain": [
       "<Figure size 1000x400 with 2 Axes>"
      ]
     },
     "metadata": {},
     "output_type": "display_data"
    }
   ],
   "source": [
    "# pouzijeme equi-depth binning aby sa vyrovnalo rozdelenie\n",
    "data[\"Flipper Length cat\"] =  pd.qcut(data[\"Flipper Length (mm)\"], q=5, labels = [\"length_1\", \"length_2\", \"length_3\", \"length_4\", \"length_5\"])\n",
    "fig, ax = plt.subplots(1, 2, figsize=(10,4))\n",
    "ax[0].hist(data[\"Flipper Length (mm)\"], 5, width=8)\n",
    "ax[0].set_title(\"Flipper Length (mm)\")\n",
    "ax[1].hist(data[\"Flipper Length cat\"])\n",
    "ax[1].set_title(\"Flipper Length cat\")"
   ]
  },
  {
   "cell_type": "markdown",
   "metadata": {},
   "source": [
    "Culmen Depth - equi width"
   ]
  },
  {
   "cell_type": "code",
   "execution_count": 14,
   "metadata": {},
   "outputs": [
    {
     "name": "stderr",
     "output_type": "stream",
     "text": [
      "/tmp/ipykernel_245065/622879084.py:1: SettingWithCopyWarning: \n",
      "A value is trying to be set on a copy of a slice from a DataFrame.\n",
      "Try using .loc[row_indexer,col_indexer] = value instead\n",
      "\n",
      "See the caveats in the documentation: https://pandas.pydata.org/pandas-docs/stable/user_guide/indexing.html#returning-a-view-versus-a-copy\n",
      "  data[\"Culmen Depth cat\"] =  pd.cut(data[\"Culmen Depth (mm)\"], bins=5, labels = [\"c_depth_1\", \"c_depth_2\", \"c_depth_3\", \"c_depth_4\", \"c_depth_5\"])\n"
     ]
    },
    {
     "data": {
      "text/plain": [
       "Text(0.5, 1.0, 'Culmen Depth cat')"
      ]
     },
     "execution_count": 14,
     "metadata": {},
     "output_type": "execute_result"
    },
    {
     "data": {
      "image/png": "[encoded data removed]",
      "text/plain": [
       "<Figure size 1000x400 with 2 Axes>"
      ]
     },
     "metadata": {},
     "output_type": "display_data"
    }
   ],
   "source": [
    "data[\"Culmen Depth cat\"] =  pd.cut(data[\"Culmen Depth (mm)\"], bins=5, labels = [\"c_depth_1\", \"c_depth_2\", \"c_depth_3\", \"c_depth_4\", \"c_depth_5\"])\n",
    "fig, ax = plt.subplots(1, 2, figsize=(10,4))\n",
    "ax[0].hist(data[\"Culmen Depth (mm)\"], 5, width=1)\n",
    "ax[0].set_title(\"Culmen Depth (mm)\")\n",
    "ax[1].hist(data[\"Culmen Depth cat\"])\n",
    "ax[1].set_title(\"Culmen Depth cat\")"
   ]
  },
  {
   "cell_type": "markdown",
   "metadata": {},
   "source": [
    "Culmen Length - equi width"
   ]
  },
  {
   "cell_type": "code",
   "execution_count": 15,
   "metadata": {},
   "outputs": [
    {
     "name": "stderr",
     "output_type": "stream",
     "text": [
      "/tmp/ipykernel_245065/1649572200.py:1: SettingWithCopyWarning: \n",
      "A value is trying to be set on a copy of a slice from a DataFrame.\n",
      "Try using .loc[row_indexer,col_indexer] = value instead\n",
      "\n",
      "See the caveats in the documentation: https://pandas.pydata.org/pandas-docs/stable/user_guide/indexing.html#returning-a-view-versus-a-copy\n",
      "  data[\"Culmen Length cat\"] =  pd.cut(data[\"Culmen Length (mm)\"], bins=5, labels=[\"c_length_1\", \"c_length_2\", \"c_length_3\", \"c_length_4\", \"c_length_5\"])\n"
     ]
    },
    {
     "data": {
      "text/plain": [
       "Text(0.5, 1.0, 'Culmen Length cat')"
      ]
     },
     "execution_count": 15,
     "metadata": {},
     "output_type": "execute_result"
    },
    {
     "data": {
      "image/png": "[encoded data removed]",
      "text/plain": [
       "<Figure size 1000x400 with 2 Axes>"
      ]
     },
     "metadata": {},
     "output_type": "display_data"
    }
   ],
   "source": [
    "data[\"Culmen Length cat\"] =  pd.cut(data[\"Culmen Length (mm)\"], bins=5, labels=[\"c_length_1\", \"c_length_2\", \"c_length_3\", \"c_length_4\", \"c_length_5\"])\n",
    "fig, ax = plt.subplots(1, 2, figsize=(10,4))\n",
    "ax[0].hist(data[\"Culmen Length (mm)\"], 5, width=3)\n",
    "ax[0].set_title(\"Culmen Length (mm)\")\n",
    "ax[1].hist(data[\"Culmen Length cat\"])\n",
    "ax[1].set_title(\"Culmen Length cat\")"
   ]
  },
  {
   "cell_type": "code",
   "execution_count": 16,
   "metadata": {},
   "outputs": [
    {
     "name": "stderr",
     "output_type": "stream",
     "text": [
      "/tmp/ipykernel_245065/4240905790.py:1: SettingWithCopyWarning: \n",
      "A value is trying to be set on a copy of a slice from a DataFrame\n",
      "\n",
      "See the caveats in the documentation: https://pandas.pydata.org/pandas-docs/stable/user_guide/indexing.html#returning-a-view-versus-a-copy\n",
      "  data.drop([\"Culmen Length (mm)\", \"Culmen Depth (mm)\", \"Flipper Length (mm)\", \"Body Mass (g)\"], axis=1, inplace=True)\n"
     ]
    }
   ],
   "source": [
    "data.drop([\"Culmen Length (mm)\", \"Culmen Depth (mm)\", \"Flipper Length (mm)\", \"Body Mass (g)\"], axis=1, inplace=True)"
   ]
  },
  {
   "cell_type": "code",
   "execution_count": 17,
   "metadata": {},
   "outputs": [
    {
     "data": {
      "text/html": [
       "<div>\n",
       "<style scoped>\n",
       "    .dataframe tbody tr th:only-of-type {\n",
       "        vertical-align: middle;\n",
       "    }\n",
       "\n",
       "    .dataframe tbody tr th {\n",
       "        vertical-align: top;\n",
       "    }\n",
       "\n",
       "    .dataframe thead th {\n",
       "        text-align: right;\n",
       "    }\n",
       "</style>\n",
       "<table border=\"1\" class=\"dataframe\">\n",
       "  <thead>\n",
       "    <tr style=\"text-align: right;\">\n",
       "      <th></th>\n",
       "      <th>Island</th>\n",
       "      <th>Body Mass cat</th>\n",
       "      <th>Flipper Length cat</th>\n",
       "      <th>Culmen Depth cat</th>\n",
       "      <th>Culmen Length cat</th>\n",
       "    </tr>\n",
       "  </thead>\n",
       "  <tbody>\n",
       "    <tr>\n",
       "      <th>0</th>\n",
       "      <td>Torgersen</td>\n",
       "      <td>mass_2</td>\n",
       "      <td>length_1</td>\n",
       "      <td>c_depth_4</td>\n",
       "      <td>c_length_2</td>\n",
       "    </tr>\n",
       "    <tr>\n",
       "      <th>1</th>\n",
       "      <td>Torgersen</td>\n",
       "      <td>mass_2</td>\n",
       "      <td>length_1</td>\n",
       "      <td>c_depth_3</td>\n",
       "      <td>c_length_2</td>\n",
       "    </tr>\n",
       "    <tr>\n",
       "      <th>2</th>\n",
       "      <td>Torgersen</td>\n",
       "      <td>mass_1</td>\n",
       "      <td>length_3</td>\n",
       "      <td>c_depth_3</td>\n",
       "      <td>c_length_2</td>\n",
       "    </tr>\n",
       "    <tr>\n",
       "      <th>4</th>\n",
       "      <td>Torgersen</td>\n",
       "      <td>mass_2</td>\n",
       "      <td>length_2</td>\n",
       "      <td>c_depth_4</td>\n",
       "      <td>c_length_1</td>\n",
       "    </tr>\n",
       "    <tr>\n",
       "      <th>5</th>\n",
       "      <td>Torgersen</td>\n",
       "      <td>mass_2</td>\n",
       "      <td>length_2</td>\n",
       "      <td>c_depth_5</td>\n",
       "      <td>c_length_2</td>\n",
       "    </tr>\n",
       "    <tr>\n",
       "      <th>...</th>\n",
       "      <td>...</td>\n",
       "      <td>...</td>\n",
       "      <td>...</td>\n",
       "      <td>...</td>\n",
       "      <td>...</td>\n",
       "    </tr>\n",
       "    <tr>\n",
       "      <th>338</th>\n",
       "      <td>Biscoe</td>\n",
       "      <td>mass_4</td>\n",
       "      <td>length_4</td>\n",
       "      <td>c_depth_1</td>\n",
       "      <td>c_length_3</td>\n",
       "    </tr>\n",
       "    <tr>\n",
       "      <th>340</th>\n",
       "      <td>Biscoe</td>\n",
       "      <td>mass_3</td>\n",
       "      <td>length_4</td>\n",
       "      <td>c_depth_1</td>\n",
       "      <td>c_length_3</td>\n",
       "    </tr>\n",
       "    <tr>\n",
       "      <th>341</th>\n",
       "      <td>Biscoe</td>\n",
       "      <td>mass_5</td>\n",
       "      <td>length_5</td>\n",
       "      <td>c_depth_2</td>\n",
       "      <td>c_length_4</td>\n",
       "    </tr>\n",
       "    <tr>\n",
       "      <th>342</th>\n",
       "      <td>Biscoe</td>\n",
       "      <td>mass_4</td>\n",
       "      <td>length_4</td>\n",
       "      <td>c_depth_2</td>\n",
       "      <td>c_length_3</td>\n",
       "    </tr>\n",
       "    <tr>\n",
       "      <th>343</th>\n",
       "      <td>Biscoe</td>\n",
       "      <td>mass_4</td>\n",
       "      <td>length_4</td>\n",
       "      <td>c_depth_2</td>\n",
       "      <td>c_length_4</td>\n",
       "    </tr>\n",
       "  </tbody>\n",
       "</table>\n",
       "<p>342 rows × 5 columns</p>\n",
       "</div>"
      ],
      "text/plain": [
       "        Island Body Mass cat Flipper Length cat Culmen Depth cat  \\\n",
       "0    Torgersen        mass_2           length_1        c_depth_4   \n",
       "1    Torgersen        mass_2           length_1        c_depth_3   \n",
       "2    Torgersen        mass_1           length_3        c_depth_3   \n",
       "4    Torgersen        mass_2           length_2        c_depth_4   \n",
       "5    Torgersen        mass_2           length_2        c_depth_5   \n",
       "..         ...           ...                ...              ...   \n",
       "338     Biscoe        mass_4           length_4        c_depth_1   \n",
       "340     Biscoe        mass_3           length_4        c_depth_1   \n",
       "341     Biscoe        mass_5           length_5        c_depth_2   \n",
       "342     Biscoe        mass_4           length_4        c_depth_2   \n",
       "343     Biscoe        mass_4           length_4        c_depth_2   \n",
       "\n",
       "    Culmen Length cat  \n",
       "0          c_length_2  \n",
       "1          c_length_2  \n",
       "2          c_length_2  \n",
       "4          c_length_1  \n",
       "5          c_length_2  \n",
       "..                ...  \n",
       "338        c_length_3  \n",
       "340        c_length_3  \n",
       "341        c_length_4  \n",
       "342        c_length_3  \n",
       "343        c_length_4  \n",
       "\n",
       "[342 rows x 5 columns]"
      ]
     },
     "execution_count": 17,
     "metadata": {},
     "output_type": "execute_result"
    }
   ],
   "source": [
    "data"
   ]
  },
  {
   "cell_type": "markdown",
   "metadata": {},
   "source": [
    "### Normalizacia numerickych atributov, transformacia kategorickych na numericke"
   ]
  },
  {
   "cell_type": "markdown",
   "metadata": {},
   "source": [
    "One-hot encoding Island"
   ]
  },
  {
   "cell_type": "code",
   "execution_count": 22,
   "metadata": {},
   "outputs": [],
   "source": [
    "one_hot = pd.get_dummies(data2['Island'])\n",
    "data2.drop('Island',axis = 1, inplace=True)\n",
    "data2 = data2.join(one_hot)"
   ]
  },
  {
   "cell_type": "markdown",
   "metadata": {},
   "source": [
    "min max normalizacia vsetkych numerickych atributov"
   ]
  },
  {
   "cell_type": "code",
   "execution_count": 24,
   "metadata": {},
   "outputs": [],
   "source": [
    "def normalize(df, cols):\n",
    "    for col in cols:\n",
    "        df[col] = (df[col] - df[col].min()) / (df[col].max() - df[col].min())   \n",
    "\n",
    "normalize(data2, [\"Culmen Length (mm)\", \"Culmen Depth (mm)\", \"Flipper Length (mm)\", \"Body Mass (g)\"]) "
   ]
  },
  {
   "cell_type": "code",
   "execution_count": 25,
   "metadata": {},
   "outputs": [
    {
     "data": {
      "text/html": [
       "<div>\n",
       "<style scoped>\n",
       "    .dataframe tbody tr th:only-of-type {\n",
       "        vertical-align: middle;\n",
       "    }\n",
       "\n",
       "    .dataframe tbody tr th {\n",
       "        vertical-align: top;\n",
       "    }\n",
       "\n",
       "    .dataframe thead th {\n",
       "        text-align: right;\n",
       "    }\n",
       "</style>\n",
       "<table border=\"1\" class=\"dataframe\">\n",
       "  <thead>\n",
       "    <tr style=\"text-align: right;\">\n",
       "      <th></th>\n",
       "      <th>Culmen Length (mm)</th>\n",
       "      <th>Culmen Depth (mm)</th>\n",
       "      <th>Flipper Length (mm)</th>\n",
       "      <th>Body Mass (g)</th>\n",
       "      <th>Biscoe</th>\n",
       "      <th>Dream</th>\n",
       "      <th>Torgersen</th>\n",
       "    </tr>\n",
       "  </thead>\n",
       "  <tbody>\n",
       "    <tr>\n",
       "      <th>0</th>\n",
       "      <td>0.254545</td>\n",
       "      <td>0.666667</td>\n",
       "      <td>0.152542</td>\n",
       "      <td>0.291667</td>\n",
       "      <td>0</td>\n",
       "      <td>0</td>\n",
       "      <td>1</td>\n",
       "    </tr>\n",
       "    <tr>\n",
       "      <th>1</th>\n",
       "      <td>0.269091</td>\n",
       "      <td>0.511905</td>\n",
       "      <td>0.237288</td>\n",
       "      <td>0.305556</td>\n",
       "      <td>0</td>\n",
       "      <td>0</td>\n",
       "      <td>1</td>\n",
       "    </tr>\n",
       "    <tr>\n",
       "      <th>2</th>\n",
       "      <td>0.298182</td>\n",
       "      <td>0.583333</td>\n",
       "      <td>0.389831</td>\n",
       "      <td>0.152778</td>\n",
       "      <td>0</td>\n",
       "      <td>0</td>\n",
       "      <td>1</td>\n",
       "    </tr>\n",
       "    <tr>\n",
       "      <th>3</th>\n",
       "      <td>0.429888</td>\n",
       "      <td>0.482282</td>\n",
       "      <td>0.490088</td>\n",
       "      <td>0.417154</td>\n",
       "      <td>0</td>\n",
       "      <td>0</td>\n",
       "      <td>1</td>\n",
       "    </tr>\n",
       "    <tr>\n",
       "      <th>4</th>\n",
       "      <td>0.167273</td>\n",
       "      <td>0.738095</td>\n",
       "      <td>0.355932</td>\n",
       "      <td>0.208333</td>\n",
       "      <td>0</td>\n",
       "      <td>0</td>\n",
       "      <td>1</td>\n",
       "    </tr>\n",
       "    <tr>\n",
       "      <th>...</th>\n",
       "      <td>...</td>\n",
       "      <td>...</td>\n",
       "      <td>...</td>\n",
       "      <td>...</td>\n",
       "      <td>...</td>\n",
       "      <td>...</td>\n",
       "      <td>...</td>\n",
       "    </tr>\n",
       "    <tr>\n",
       "      <th>339</th>\n",
       "      <td>0.429888</td>\n",
       "      <td>0.482282</td>\n",
       "      <td>0.490088</td>\n",
       "      <td>0.417154</td>\n",
       "      <td>1</td>\n",
       "      <td>0</td>\n",
       "      <td>0</td>\n",
       "    </tr>\n",
       "    <tr>\n",
       "      <th>340</th>\n",
       "      <td>0.534545</td>\n",
       "      <td>0.142857</td>\n",
       "      <td>0.728814</td>\n",
       "      <td>0.597222</td>\n",
       "      <td>1</td>\n",
       "      <td>0</td>\n",
       "      <td>0</td>\n",
       "    </tr>\n",
       "    <tr>\n",
       "      <th>341</th>\n",
       "      <td>0.665455</td>\n",
       "      <td>0.309524</td>\n",
       "      <td>0.847458</td>\n",
       "      <td>0.847222</td>\n",
       "      <td>1</td>\n",
       "      <td>0</td>\n",
       "      <td>0</td>\n",
       "    </tr>\n",
       "    <tr>\n",
       "      <th>342</th>\n",
       "      <td>0.476364</td>\n",
       "      <td>0.202381</td>\n",
       "      <td>0.677966</td>\n",
       "      <td>0.694444</td>\n",
       "      <td>1</td>\n",
       "      <td>0</td>\n",
       "      <td>0</td>\n",
       "    </tr>\n",
       "    <tr>\n",
       "      <th>343</th>\n",
       "      <td>0.647273</td>\n",
       "      <td>0.357143</td>\n",
       "      <td>0.694915</td>\n",
       "      <td>0.750000</td>\n",
       "      <td>1</td>\n",
       "      <td>0</td>\n",
       "      <td>0</td>\n",
       "    </tr>\n",
       "  </tbody>\n",
       "</table>\n",
       "<p>344 rows × 7 columns</p>\n",
       "</div>"
      ],
      "text/plain": [
       "     Culmen Length (mm)  Culmen Depth (mm)  Flipper Length (mm)  \\\n",
       "0              0.254545           0.666667             0.152542   \n",
       "1              0.269091           0.511905             0.237288   \n",
       "2              0.298182           0.583333             0.389831   \n",
       "3              0.429888           0.482282             0.490088   \n",
       "4              0.167273           0.738095             0.355932   \n",
       "..                  ...                ...                  ...   \n",
       "339            0.429888           0.482282             0.490088   \n",
       "340            0.534545           0.142857             0.728814   \n",
       "341            0.665455           0.309524             0.847458   \n",
       "342            0.476364           0.202381             0.677966   \n",
       "343            0.647273           0.357143             0.694915   \n",
       "\n",
       "     Body Mass (g)  Biscoe  Dream  Torgersen  \n",
       "0         0.291667       0      0          1  \n",
       "1         0.305556       0      0          1  \n",
       "2         0.152778       0      0          1  \n",
       "3         0.417154       0      0          1  \n",
       "4         0.208333       0      0          1  \n",
       "..             ...     ...    ...        ...  \n",
       "339       0.417154       1      0          0  \n",
       "340       0.597222       1      0          0  \n",
       "341       0.847222       1      0          0  \n",
       "342       0.694444       1      0          0  \n",
       "343       0.750000       1      0          0  \n",
       "\n",
       "[344 rows x 7 columns]"
      ]
     },
     "execution_count": 25,
     "metadata": {},
     "output_type": "execute_result"
    }
   ],
   "source": [
    "data2"
   ]
  },
  {
   "cell_type": "code",
   "execution_count": null,
   "metadata": {},
   "outputs": [],
   "source": []
  }
 ],
 "metadata": {
  "kernelspec": {
   "display_name": "Python 3.8.10 64-bit",
   "language": "python",
   "name": "python3"
  },
  "language_info": {
   "codemirror_mode": {
    "name": "ipython",
    "version": 3
   },
   "file_extension": ".py",
   "mimetype": "text/x-python",
   "name": "python",
   "nbconvert_exporter": "python",
   "pygments_lexer": "ipython3",
   "version": "3.10.6"
  },
  "orig_nbformat": 4,
  "vscode": {
   "interpreter": {
    "hash": "916dbcbb3f70747c44a77c7bcd40155683ae19c65e1c03b4aa3499c5328201f1"
   }
  }
 },
 "nbformat": 4,
 "nbformat_minor": 2
}
