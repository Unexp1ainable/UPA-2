{
 "cells": [
  {
   "cell_type": "markdown",
   "metadata": {},
   "source": [
    "### Příprava datových sad pro dolovací úlohy"
   ]
  },
  {
   "cell_type": "code",
   "execution_count": 19,
   "metadata": {},
   "outputs": [],
   "source": [
    "import pandas as pd\n",
    "import matplotlib.pyplot as plt\n",
    "import numpy as np\n",
    "pd.options.mode.chained_assignment = None"
   ]
  },
  {
   "cell_type": "markdown",
   "metadata": {},
   "source": [
    "Dolovací úloha: klasifikace druhů tučňáků na základě ostatních atributů"
   ]
  },
  {
   "cell_type": "code",
   "execution_count": 20,
   "metadata": {},
   "outputs": [],
   "source": [
    "data = pd.read_csv(\"penguins_lter.csv\")"
   ]
  },
  {
   "cell_type": "markdown",
   "metadata": {},
   "source": [
    "### Odstranění irelevantních atributů"
   ]
  },
  {
   "cell_type": "code",
   "execution_count": 21,
   "metadata": {},
   "outputs": [
    {
     "data": {
      "text/html": [
       "<div>\n",
       "<style scoped>\n",
       "    .dataframe tbody tr th:only-of-type {\n",
       "        vertical-align: middle;\n",
       "    }\n",
       "\n",
       "    .dataframe tbody tr th {\n",
       "        vertical-align: top;\n",
       "    }\n",
       "\n",
       "    .dataframe thead th {\n",
       "        text-align: right;\n",
       "    }\n",
       "</style>\n",
       "<table border=\"1\" class=\"dataframe\">\n",
       "  <thead>\n",
       "    <tr style=\"text-align: right;\">\n",
       "      <th></th>\n",
       "      <th>Island</th>\n",
       "      <th>Culmen Length (mm)</th>\n",
       "      <th>Culmen Depth (mm)</th>\n",
       "      <th>Flipper Length (mm)</th>\n",
       "      <th>Body Mass (g)</th>\n",
       "    </tr>\n",
       "  </thead>\n",
       "  <tbody>\n",
       "    <tr>\n",
       "      <th>0</th>\n",
       "      <td>Torgersen</td>\n",
       "      <td>39.1</td>\n",
       "      <td>18.7</td>\n",
       "      <td>181.0</td>\n",
       "      <td>3750.0</td>\n",
       "    </tr>\n",
       "    <tr>\n",
       "      <th>1</th>\n",
       "      <td>Torgersen</td>\n",
       "      <td>39.5</td>\n",
       "      <td>17.4</td>\n",
       "      <td>186.0</td>\n",
       "      <td>3800.0</td>\n",
       "    </tr>\n",
       "    <tr>\n",
       "      <th>2</th>\n",
       "      <td>Torgersen</td>\n",
       "      <td>40.3</td>\n",
       "      <td>18.0</td>\n",
       "      <td>195.0</td>\n",
       "      <td>3250.0</td>\n",
       "    </tr>\n",
       "    <tr>\n",
       "      <th>3</th>\n",
       "      <td>Torgersen</td>\n",
       "      <td>NaN</td>\n",
       "      <td>NaN</td>\n",
       "      <td>NaN</td>\n",
       "      <td>NaN</td>\n",
       "    </tr>\n",
       "    <tr>\n",
       "      <th>4</th>\n",
       "      <td>Torgersen</td>\n",
       "      <td>36.7</td>\n",
       "      <td>19.3</td>\n",
       "      <td>193.0</td>\n",
       "      <td>3450.0</td>\n",
       "    </tr>\n",
       "  </tbody>\n",
       "</table>\n",
       "</div>"
      ],
      "text/plain": [
       "      Island  Culmen Length (mm)  Culmen Depth (mm)  Flipper Length (mm)  \\\n",
       "0  Torgersen                39.1               18.7                181.0   \n",
       "1  Torgersen                39.5               17.4                186.0   \n",
       "2  Torgersen                40.3               18.0                195.0   \n",
       "3  Torgersen                 NaN                NaN                  NaN   \n",
       "4  Torgersen                36.7               19.3                193.0   \n",
       "\n",
       "   Body Mass (g)  \n",
       "0         3750.0  \n",
       "1         3800.0  \n",
       "2         3250.0  \n",
       "3            NaN  \n",
       "4         3450.0  "
      ]
     },
     "execution_count": 21,
     "metadata": {},
     "output_type": "execute_result"
    }
   ],
   "source": [
    "data = data[[\"Island\", \"Culmen Length (mm)\", \"Culmen Depth (mm)\", \"Flipper Length (mm)\", \"Body Mass (g)\"]]\n",
    "data.head()"
   ]
  },
  {
   "cell_type": "markdown",
   "metadata": {},
   "source": [
    "### Chybějící hodnoty\n",
    "Využijte alespoň dvě různé metody pro odstranění chybějících hodnot:\n",
    "\n",
    "1) Ignorování záznamu\n",
    "\n",
    "2) Doplnění chybějících hodnot - např. průměr, medián, modus, ... (pro celou sadu nebo pro danou třídu)\n",
    "\n",
    "V první datové sadě budeme záznamy ignorovat, ve druhé doplníme jejich hodnotu průměrem."
   ]
  },
  {
   "cell_type": "code",
   "execution_count": 22,
   "metadata": {},
   "outputs": [],
   "source": [
    "# vytvoreni druhe datove sady\n",
    "data2 = data"
   ]
  },
  {
   "cell_type": "code",
   "execution_count": 23,
   "metadata": {},
   "outputs": [
    {
     "name": "stderr",
     "output_type": "stream",
     "text": [
      "/tmp/ipykernel_37634/218958157.py:2: FutureWarning: In a future version of pandas all arguments of DataFrame.any and Series.any will be keyword-only.\n",
      "  empty = data[data.isnull().any(1)]\n"
     ]
    },
    {
     "data": {
      "text/html": [
       "<div>\n",
       "<style scoped>\n",
       "    .dataframe tbody tr th:only-of-type {\n",
       "        vertical-align: middle;\n",
       "    }\n",
       "\n",
       "    .dataframe tbody tr th {\n",
       "        vertical-align: top;\n",
       "    }\n",
       "\n",
       "    .dataframe thead th {\n",
       "        text-align: right;\n",
       "    }\n",
       "</style>\n",
       "<table border=\"1\" class=\"dataframe\">\n",
       "  <thead>\n",
       "    <tr style=\"text-align: right;\">\n",
       "      <th></th>\n",
       "      <th>Island</th>\n",
       "      <th>Culmen Length (mm)</th>\n",
       "      <th>Culmen Depth (mm)</th>\n",
       "      <th>Flipper Length (mm)</th>\n",
       "      <th>Body Mass (g)</th>\n",
       "    </tr>\n",
       "  </thead>\n",
       "  <tbody>\n",
       "    <tr>\n",
       "      <th>3</th>\n",
       "      <td>Torgersen</td>\n",
       "      <td>NaN</td>\n",
       "      <td>NaN</td>\n",
       "      <td>NaN</td>\n",
       "      <td>NaN</td>\n",
       "    </tr>\n",
       "    <tr>\n",
       "      <th>339</th>\n",
       "      <td>Biscoe</td>\n",
       "      <td>NaN</td>\n",
       "      <td>NaN</td>\n",
       "      <td>NaN</td>\n",
       "      <td>NaN</td>\n",
       "    </tr>\n",
       "  </tbody>\n",
       "</table>\n",
       "</div>"
      ],
      "text/plain": [
       "        Island  Culmen Length (mm)  Culmen Depth (mm)  Flipper Length (mm)  \\\n",
       "3    Torgersen                 NaN                NaN                  NaN   \n",
       "339     Biscoe                 NaN                NaN                  NaN   \n",
       "\n",
       "     Body Mass (g)  \n",
       "3              NaN  \n",
       "339            NaN  "
      ]
     },
     "execution_count": 23,
     "metadata": {},
     "output_type": "execute_result"
    }
   ],
   "source": [
    "# chybejici hodnoty\n",
    "empty = data[data.isnull().any(1)]\n",
    "empty"
   ]
  },
  {
   "cell_type": "code",
   "execution_count": 24,
   "metadata": {},
   "outputs": [
    {
     "name": "stderr",
     "output_type": "stream",
     "text": [
      "/tmp/ipykernel_37634/969702303.py:2: FutureWarning: In a future version of pandas all arguments of DataFrame.any and Series.any will be keyword-only.\n",
      "  data = data[~data.isnull().any(1)]\n"
     ]
    }
   ],
   "source": [
    "# ignorovani zaznamu v prvni sade\n",
    "data = data[~data.isnull().any(1)]"
   ]
  },
  {
   "cell_type": "code",
   "execution_count": 25,
   "metadata": {},
   "outputs": [],
   "source": [
    "# nahrazeni chybejici hodnoty prumerem ve druhe sade\n",
    "cl = data2[\"Culmen Length (mm)\"].to_numpy().reshape(-1,1)\n",
    "cd = data2[\"Culmen Depth (mm)\"].to_numpy().reshape(-1,1)\n",
    "fl = data2[\"Flipper Length (mm)\"].to_numpy().reshape(-1,1)\n",
    "bm = data2[\"Body Mass (g)\"].to_numpy().reshape(-1,1)\n",
    "\n",
    "data2[\"Culmen Length (mm)\"] = data2[\"Culmen Length (mm)\"].fillna(np.nanmean(cl))\n",
    "data2[\"Culmen Depth (mm)\"] = data2[\"Culmen Depth (mm)\"].fillna(np.nanmean(cd))\n",
    "data2[\"Flipper Length (mm)\"] = data2[\"Flipper Length (mm)\"].fillna(np.nanmean(fl))\n",
    "data2[\"Body Mass (g)\"] = data2[\"Body Mass (g)\"].fillna(np.nanmean(bm))"
   ]
  },
  {
   "cell_type": "markdown",
   "metadata": {},
   "source": [
    "### Odlehlé hodnoty"
   ]
  },
  {
   "cell_type": "code",
   "execution_count": 26,
   "metadata": {},
   "outputs": [],
   "source": [
    "def find_outliers(cl):\n",
    "    # finding the 1st quartile\n",
    "    q1 = np.quantile(cl, 0.25)\n",
    "    \n",
    "    # finding the 3rd quartile\n",
    "    q3 = np.quantile(cl, 0.75)\n",
    "    med = np.median(cl)\n",
    "    \n",
    "    # finding the iqr region\n",
    "    iqr = q3-q1\n",
    "    \n",
    "    # finding upper and lower whiskers\n",
    "    upper_bound = q3+(1.5*iqr)\n",
    "    lower_bound = q1-(1.5*iqr)\n",
    "\n",
    "    outliers = cl[(cl <= lower_bound) | (cl >= upper_bound)]\n",
    "    print('The following are the outliers in the boxplot:{}'.format(outliers))"
   ]
  },
  {
   "cell_type": "code",
   "execution_count": 27,
   "metadata": {},
   "outputs": [
    {
     "name": "stdout",
     "output_type": "stream",
     "text": [
      "The following are the outliers in the boxplot:[]\n",
      "The following are the outliers in the boxplot:[]\n",
      "The following are the outliers in the boxplot:[]\n",
      "The following are the outliers in the boxplot:[]\n"
     ]
    }
   ],
   "source": [
    "# second dataset\n",
    "find_outliers(cl)\n",
    "find_outliers(cd)\n",
    "find_outliers(fl)\n",
    "find_outliers(bm)"
   ]
  },
  {
   "cell_type": "markdown",
   "metadata": {},
   "source": [
    "### Diskretizácia numerických atribútov"
   ]
  },
  {
   "cell_type": "markdown",
   "metadata": {},
   "source": [
    "Pro jednu variantu datové sady proveďte diskretizaci numerických atributů tak, aby výsledná datová sada byla vhodná pro algoritmy, které vyžadují na vstupu kategorické atributy\n"
   ]
  },
  {
   "cell_type": "markdown",
   "metadata": {},
   "source": [
    "Body Mass - equi-width"
   ]
  },
  {
   "cell_type": "code",
   "execution_count": 28,
   "metadata": {},
   "outputs": [
    {
     "data": {
      "text/plain": [
       "Text(0.5, 1.0, 'Body Mass cat')"
      ]
     },
     "execution_count": 28,
     "metadata": {},
     "output_type": "execute_result"
    },
    {
     "data": {
      "image/png": "[encoded data removed]",
      "text/plain": [
       "<Figure size 1000x400 with 2 Axes>"
      ]
     },
     "metadata": {},
     "output_type": "display_data"
    }
   ],
   "source": [
    "order =  [\"ľahký\", \"ok\", \"ťažký\", \"masívny\", \"monumentálny\"]\n",
    "data[\"Body Mass cat\"] =  pd.cut(data[\"Body Mass (g)\"], bins=5, labels = order)\n",
    "fig, ax = plt.subplots(1, 2, figsize=(10,4))\n",
    "ax[0].hist(data[\"Body Mass (g)\"], 5, width=300)\n",
    "ax[0].set_title(\"Body Mass (g)\")\n",
    "data[\"Body Mass cat\"].value_counts().loc[order].plot(kind=\"bar\", ax=ax[1])\n",
    "ax[1].set_title(\"Body Mass cat\")"
   ]
  },
  {
   "cell_type": "markdown",
   "metadata": {},
   "source": [
    "Flipper Length - equi depth"
   ]
  },
  {
   "cell_type": "code",
   "execution_count": 29,
   "metadata": {},
   "outputs": [
    {
     "data": {
      "text/plain": [
       "Text(0.5, 1.0, 'Flipper Length cat')"
      ]
     },
     "execution_count": 29,
     "metadata": {},
     "output_type": "execute_result"
    },
    {
     "data": {
      "image/png": "[encoded data removed]",
      "text/plain": [
       "<Figure size 1000x400 with 2 Axes>"
      ]
     },
     "metadata": {},
     "output_type": "display_data"
    }
   ],
   "source": [
    "# pouzijeme equi-depth binning aby sa vyrovnalo rozdelenie\n",
    "order = [\"kratučký\", \"krátky\", \"normálny\", \"dlhý\", \"dlhatý\"]\n",
    "data[\"Flipper Length cat\"] =  pd.qcut(data[\"Flipper Length (mm)\"], q=5, labels = order)\n",
    "fig, ax = plt.subplots(1, 2, figsize=(10,4))\n",
    "ax[0].hist(data[\"Flipper Length (mm)\"], 5, width=8)\n",
    "ax[0].set_title(\"Flipper Length (mm)\")\n",
    "data[\"Flipper Length cat\"].value_counts().loc[order].plot(kind=\"bar\", ax=ax[1])\n",
    "ax[1].set_title(\"Flipper Length cat\")"
   ]
  },
  {
   "cell_type": "markdown",
   "metadata": {},
   "source": [
    "Culmen Depth - equi width"
   ]
  },
  {
   "cell_type": "code",
   "execution_count": 30,
   "metadata": {},
   "outputs": [
    {
     "data": {
      "text/plain": [
       "Text(0.5, 1.0, 'Culmen Depth cat')"
      ]
     },
     "execution_count": 30,
     "metadata": {},
     "output_type": "execute_result"
    },
    {
     "data": {
      "image/png": "[encoded data removed]",
      "text/plain": [
       "<Figure size 1000x400 with 2 Axes>"
      ]
     },
     "metadata": {},
     "output_type": "display_data"
    }
   ],
   "source": [
    "order = [\"plytký\", \"menej_plytký\", \"klasický\", \"hlboký\", \"bezodný\"]\n",
    "data[\"Culmen Depth cat\"] =  pd.cut(data[\"Culmen Depth (mm)\"], bins=5, labels =order)\n",
    "fig, ax = plt.subplots(1, 2, figsize=(10,4))\n",
    "ax[0].hist(data[\"Culmen Depth (mm)\"], 5, width=1)\n",
    "ax[0].set_title(\"Culmen Depth (mm)\")\n",
    "data[\"Culmen Depth cat\"].value_counts().loc[order].plot(kind=\"bar\", ax=ax[1])\n",
    "ax[1].set_title(\"Culmen Depth cat\")"
   ]
  },
  {
   "cell_type": "markdown",
   "metadata": {},
   "source": [
    "Culmen Length - equi width"
   ]
  },
  {
   "cell_type": "code",
   "execution_count": 31,
   "metadata": {},
   "outputs": [
    {
     "data": {
      "text/plain": [
       "Text(0.5, 1.0, 'Culmen Length cat')"
      ]
     },
     "execution_count": 31,
     "metadata": {},
     "output_type": "execute_result"
    },
    {
     "data": {
      "image/png": "[encoded data removed]",
      "text/plain": [
       "<Figure size 1000x400 with 2 Axes>"
      ]
     },
     "metadata": {},
     "output_type": "display_data"
    }
   ],
   "source": [
    "order= [\"kratučký\", \"krátky\", \"normálny\", \"dlhý\", \"dlhatý\"]\n",
    "data[\"Culmen Length cat\"] =  pd.cut(data[\"Culmen Length (mm)\"], bins=5, labels=order)\n",
    "fig, ax = plt.subplots(1, 2, figsize=(10,4))\n",
    "ax[0].hist(data[\"Culmen Length (mm)\"], 5, width=3)\n",
    "ax[0].set_title(\"Culmen Length (mm)\")\n",
    "data[\"Culmen Length cat\"].value_counts().loc[order].plot(kind=\"bar\", ax=ax[1])\n",
    "ax[1].set_title(\"Culmen Length cat\")"
   ]
  },
  {
   "cell_type": "code",
   "execution_count": 32,
   "metadata": {},
   "outputs": [],
   "source": [
    "data.drop([\"Culmen Length (mm)\", \"Culmen Depth (mm)\", \"Flipper Length (mm)\", \"Body Mass (g)\"], axis=1, inplace=True)"
   ]
  },
  {
   "cell_type": "code",
   "execution_count": 33,
   "metadata": {},
   "outputs": [],
   "source": [
    "data.to_csv(\"penguins_categorical.csv\")"
   ]
  },
  {
   "cell_type": "markdown",
   "metadata": {},
   "source": [
    "### Normalizacia numerickych atributov, transformacia kategorickych na numericke"
   ]
  },
  {
   "cell_type": "markdown",
   "metadata": {},
   "source": [
    "One-hot encoding Island"
   ]
  },
  {
   "cell_type": "code",
   "execution_count": 34,
   "metadata": {},
   "outputs": [],
   "source": [
    "one_hot = pd.get_dummies(data2['Island'])\n",
    "data2.drop('Island',axis = 1, inplace=True)\n",
    "data2 = data2.join(one_hot)"
   ]
  },
  {
   "cell_type": "markdown",
   "metadata": {},
   "source": [
    "min max normalizacia vsetkych numerickych atributov"
   ]
  },
  {
   "cell_type": "code",
   "execution_count": 35,
   "metadata": {},
   "outputs": [],
   "source": [
    "def normalize(df, cols):\n",
    "    for col in cols:\n",
    "        df[col] = (df[col] - df[col].min()) / (df[col].max() - df[col].min())   \n",
    "\n",
    "normalize(data2, [\"Culmen Length (mm)\", \"Culmen Depth (mm)\", \"Flipper Length (mm)\", \"Body Mass (g)\"]) "
   ]
  },
  {
   "cell_type": "code",
   "execution_count": 36,
   "metadata": {},
   "outputs": [],
   "source": [
    "data2.to_csv(\"penguins_numerical.csv\")"
   ]
  },
  {
   "cell_type": "code",
   "execution_count": null,
   "metadata": {},
   "outputs": [],
   "source": []
  }
 ],
 "metadata": {
  "kernelspec": {
   "display_name": "Python 3.8.10 64-bit",
   "language": "python",
   "name": "python3"
  },
  "language_info": {
   "codemirror_mode": {
    "name": "ipython",
    "version": 3
   },
   "file_extension": ".py",
   "mimetype": "text/x-python",
   "name": "python",
   "nbconvert_exporter": "python",
   "pygments_lexer": "ipython3",
   "version": "3.10.6"
  },
  "orig_nbformat": 4,
  "vscode": {
   "interpreter": {
    "hash": "916dbcbb3f70747c44a77c7bcd40155683ae19c65e1c03b4aa3499c5328201f1"
   }
  }
 },
 "nbformat": 4,
 "nbformat_minor": 2
}
